{
  "nbformat": 4,
  "nbformat_minor": 0,
  "metadata": {
    "colab": {
      "name": "week3.ipynb",
      "provenance": [],
      "authorship_tag": "ABX9TyMnqEpIx6M0VT7ErVnXAG+L",
      "include_colab_link": true
    },
    "kernelspec": {
      "name": "python3",
      "display_name": "Python 3"
    }
  },
  "cells": [
    {
      "cell_type": "markdown",
      "metadata": {
        "id": "view-in-github",
        "colab_type": "text"
      },
      "source": [
        "<a href=\"https://colab.research.google.com/github/sonnet16/Python/blob/main/week3.ipynb\" target=\"_parent\"><img src=\"https://colab.research.google.com/assets/colab-badge.svg\" alt=\"Open In Colab\"/></a>"
      ]
    },
    {
      "cell_type": "markdown",
      "metadata": {
        "id": "rhXRoUC06Zjl"
      },
      "source": [
        "# Define **Funtion**"
      ]
    },
    {
      "cell_type": "code",
      "metadata": {
        "id": "hm8fes1x6Nnp",
        "outputId": "7086640c-8b17-4a3f-93d3-5432b23ee894",
        "colab": {
          "base_uri": "https://localhost:8080/",
          "height": 136
        }
      },
      "source": [
        "def add(a, b):\n",
        "  c=a+b\n",
        "  return c\n",
        "def sub(a, b):\n",
        "  d=max(a, b)\n",
        "  e=min(a,b)\n",
        "  c=d-e\n",
        "  return c\n",
        "def mul():\n",
        "  d=12*3\n",
        "  return d\n",
        "def sonnet(c):\n",
        "  print(c)\n",
        "\n",
        "def prnt(a, b):\n",
        "  e = min(a, b)\n",
        "  c=max(a, b)\n",
        "  for number in range(e, c):\n",
        "    print(number, end=\" \")\n",
        "\n",
        "\n",
        "a= int(input(\"Enter a Number: \"))\n",
        "b= int(input(\"Enter a Number: \"))\n",
        "d= add(a, b)\n",
        "e= sub(a, b)\n",
        "g = mul()\n",
        "print(f\"The sum is: {d}\")\n",
        "print(f\"The sub is: {e}\")\n",
        "print(f\"The Multiplication is : {g}\")\n",
        "f= sonnet(\"My Name Sonnet\")\n",
        "h= prnt(a, b)"
      ],
      "execution_count": 31,
      "outputs": [
        {
          "output_type": "stream",
          "text": [
            "Enter a Number: 2\n",
            "Enter a Number: 23\n",
            "The sum is: 25\n",
            "The sub is: 21\n",
            "The Multiplication is : 36\n",
            "My Name Sonnet\n",
            "2 3 4 5 6 7 8 9 10 11 12 13 14 15 16 17 18 19 20 21 22 "
          ],
          "name": "stdout"
        }
      ]
    },
    {
      "cell_type": "code",
      "metadata": {
        "id": "AcYJITuZEv_u",
        "outputId": "4751fa45-dc5e-4881-c220-96eb3f642ce3",
        "colab": {
          "base_uri": "https://localhost:8080/",
          "height": 34
        }
      },
      "source": [
        "print(\"Hello World\")"
      ],
      "execution_count": 26,
      "outputs": [
        {
          "output_type": "stream",
          "text": [
            "Hello World\n"
          ],
          "name": "stdout"
        }
      ]
    }
  ]
}