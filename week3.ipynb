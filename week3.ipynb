{
  "nbformat": 4,
  "nbformat_minor": 0,
  "metadata": {
    "colab": {
      "name": "week3.ipynb",
      "provenance": [],
      "collapsed_sections": [],
      "toc_visible": true,
      "mount_file_id": "1uKoFXEdLBrovhdCdLuJX1dArlIorjTdT",
      "authorship_tag": "ABX9TyPWN1UL9mU9Qz73eiIx41Mi",
      "include_colab_link": true
    },
    "kernelspec": {
      "name": "python3",
      "display_name": "Python 3"
    }
  },
  "cells": [
    {
      "cell_type": "markdown",
      "metadata": {
        "id": "view-in-github",
        "colab_type": "text"
      },
      "source": [
        "<a href=\"https://colab.research.google.com/github/sonnet16/Python/blob/main/week3.ipynb\" target=\"_parent\"><img src=\"https://colab.research.google.com/assets/colab-badge.svg\" alt=\"Open In Colab\"/></a>"
      ]
    },
    {
      "cell_type": "markdown",
      "metadata": {
        "id": "rhXRoUC06Zjl"
      },
      "source": [
        "# Define **Funtion**"
      ]
    },
    {
      "cell_type": "code",
      "metadata": {
        "id": "hm8fes1x6Nnp",
        "outputId": "7086640c-8b17-4a3f-93d3-5432b23ee894",
        "colab": {
          "base_uri": "https://localhost:8080/",
          "height": 136
        }
      },
      "source": [
        "def add(a, b):\n",
        "  c=a+b\n",
        "  return c\n",
        "def sub(a, b):\n",
        "  d=max(a, b)\n",
        "  e=min(a,b)\n",
        "  c=d-e\n",
        "  return c\n",
        "def mul():\n",
        "  d=12*3\n",
        "  return d\n",
        "def sonnet(c):\n",
        "  print(c)\n",
        "\n",
        "def prnt(a, b):\n",
        "  e = min(a, b)\n",
        "  c=max(a, b)\n",
        "  for number in range(e, c):\n",
        "    print(number, end=\" \")\n",
        "\n",
        "\n",
        "a= int(input(\"Enter a Number: \"))\n",
        "b= int(input(\"Enter a Number: \"))\n",
        "d= add(a, b)\n",
        "e= sub(a, b)\n",
        "g = mul()\n",
        "print(f\"The sum is: {d}\")\n",
        "print(f\"The sub is: {e}\")\n",
        "print(f\"The Multiplication is : {g}\")\n",
        "f= sonnet(\"My Name Sonnet\")\n",
        "h= prnt(a, b)"
      ],
      "execution_count": null,
      "outputs": [
        {
          "output_type": "stream",
          "text": [
            "Enter a Number: 2\n",
            "Enter a Number: 23\n",
            "The sum is: 25\n",
            "The sub is: 21\n",
            "The Multiplication is : 36\n",
            "My Name Sonnet\n",
            "2 3 4 5 6 7 8 9 10 11 12 13 14 15 16 17 18 19 20 21 22 "
          ],
          "name": "stdout"
        }
      ]
    },
    {
      "cell_type": "code",
      "metadata": {
        "id": "3yUmjd-kHbTm"
      },
      "source": [
        ""
      ],
      "execution_count": null,
      "outputs": []
    },
    {
      "cell_type": "code",
      "metadata": {
        "id": "ZFK7KwLvM_XY",
        "outputId": "dff0538e-7485-4005-b39d-5b6c4318ed58",
        "colab": {
          "base_uri": "https://localhost:8080/",
          "height": 34
        }
      },
      "source": [
        "from google.colab import drive\n",
        "drive.mount('/content/drive')\n"
      ],
      "execution_count": 59,
      "outputs": [
        {
          "output_type": "stream",
          "text": [
            "Mounted at /content/drive\n"
          ],
          "name": "stdout"
        }
      ]
    },
    {
      "cell_type": "code",
      "metadata": {
        "id": "RmVmynbPN6F0",
        "outputId": "109b7f03-5ae5-4077-bf53-10d0b5da806a",
        "colab": {
          "base_uri": "https://localhost:8080/",
          "height": 34
        }
      },
      "source": [
        "drive.mount(\"/content/drive\", force_remount=True)"
      ],
      "execution_count": 60,
      "outputs": [
        {
          "output_type": "stream",
          "text": [
            "Mounted at /content/drive\n"
          ],
          "name": "stdout"
        }
      ]
    },
    {
      "cell_type": "code",
      "metadata": {
        "id": "bWM8TdjZON53"
      },
      "source": [
        "import pandas as pd\n"
      ],
      "execution_count": 61,
      "outputs": []
    },
    {
      "cell_type": "code",
      "metadata": {
        "id": "hvp70LY9OsJt",
        "outputId": "5b810241-4484-4cbc-a24b-cf221886a932",
        "colab": {
          "base_uri": "https://localhost:8080/",
          "height": 204
        }
      },
      "source": [
        "test = pd.read_csv('/content/drive/My Drive/Fall-2020 ML Lab/test.csv')\n",
        "test.head()"
      ],
      "execution_count": 62,
      "outputs": [
        {
          "output_type": "execute_result",
          "data": {
            "text/html": [
              "<div>\n",
              "<style scoped>\n",
              "    .dataframe tbody tr th:only-of-type {\n",
              "        vertical-align: middle;\n",
              "    }\n",
              "\n",
              "    .dataframe tbody tr th {\n",
              "        vertical-align: top;\n",
              "    }\n",
              "\n",
              "    .dataframe thead th {\n",
              "        text-align: right;\n",
              "    }\n",
              "</style>\n",
              "<table border=\"1\" class=\"dataframe\">\n",
              "  <thead>\n",
              "    <tr style=\"text-align: right;\">\n",
              "      <th></th>\n",
              "      <th>Name</th>\n",
              "      <th>Popularity(out of 10)</th>\n",
              "    </tr>\n",
              "  </thead>\n",
              "  <tbody>\n",
              "    <tr>\n",
              "      <th>0</th>\n",
              "      <td>Python</td>\n",
              "      <td>9.0</td>\n",
              "    </tr>\n",
              "    <tr>\n",
              "      <th>1</th>\n",
              "      <td>C</td>\n",
              "      <td>6.0</td>\n",
              "    </tr>\n",
              "    <tr>\n",
              "      <th>2</th>\n",
              "      <td>C++</td>\n",
              "      <td>NaN</td>\n",
              "    </tr>\n",
              "    <tr>\n",
              "      <th>3</th>\n",
              "      <td>Java</td>\n",
              "      <td>7.0</td>\n",
              "    </tr>\n",
              "    <tr>\n",
              "      <th>4</th>\n",
              "      <td>Prolog</td>\n",
              "      <td>3.0</td>\n",
              "    </tr>\n",
              "  </tbody>\n",
              "</table>\n",
              "</div>"
            ],
            "text/plain": [
              "     Name  Popularity(out of 10)\n",
              "0  Python                    9.0\n",
              "1       C                    6.0\n",
              "2     C++                    NaN\n",
              "3    Java                    7.0\n",
              "4  Prolog                    3.0"
            ]
          },
          "metadata": {
            "tags": []
          },
          "execution_count": 62
        }
      ]
    }
  ]
}