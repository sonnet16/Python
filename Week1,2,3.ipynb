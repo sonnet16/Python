{
  "nbformat": 4,
  "nbformat_minor": 0,
  "metadata": {
    "colab": {
      "name": "Week1,2,3.ipynb",
      "provenance": [],
      "collapsed_sections": [],
      "authorship_tag": "ABX9TyOFEVIKs9kKG+iZcvQLp22G",
      "include_colab_link": true
    },
    "kernelspec": {
      "name": "python3",
      "display_name": "Python 3"
    }
  },
  "cells": [
    {
      "cell_type": "markdown",
      "metadata": {
        "id": "view-in-github",
        "colab_type": "text"
      },
      "source": [
        "<a href=\"https://colab.research.google.com/github/sonnet16/Python/blob/main/Week1%2C2%2C3.ipynb\" target=\"_parent\"><img src=\"https://colab.research.google.com/assets/colab-badge.svg\" alt=\"Open In Colab\"/></a>"
      ]
    },
    {
      "cell_type": "markdown",
      "metadata": {
        "id": "VLhUQC5nO-ok"
      },
      "source": [
        "# First program\n"
      ]
    },
    {
      "cell_type": "code",
      "metadata": {
        "id": "RVg8iZXgNwYR",
        "outputId": "e5d47428-9e61-493f-af20-8d9073e7b6f8",
        "colab": {
          "base_uri": "https://localhost:8080/",
          "height": 34
        }
      },
      "source": [
        "print(\"Shaharuk Ahamad Sonnet\")"
      ],
      "execution_count": null,
      "outputs": [
        {
          "output_type": "stream",
          "text": [
            "Shaharuk Ahamad Sonnet\n"
          ],
          "name": "stdout"
        }
      ]
    },
    {
      "cell_type": "markdown",
      "metadata": {
        "id": "nYTLfJf6UG1A"
      },
      "source": [
        "# Arithmetic Operation and Type"
      ]
    },
    {
      "cell_type": "code",
      "metadata": {
        "id": "gvojlUcjPEVY",
        "outputId": "8528a46e-935f-4fa3-ccdb-0fe2999542cb",
        "colab": {
          "base_uri": "https://localhost:8080/",
          "height": 238
        }
      },
      "source": [
        "x=int(input(\"Enter a number: \"))\n",
        "y=int(input(\"Enter Another NUmber: \"))\n",
        "z=input(\"Enter Your Name\")\n",
        "sum=x+y\n",
        "sub=x-y\n",
        "mul=x*y\n",
        "div=x/y\n",
        "Exponentian = x**y\n",
        "print(f\"The SUM is :{sum} \\nThe SUB is : {sub} \\nThe MUl is : {mul} \\nThe DIV is : {div} \\nThe Exponentian is : {Exponentian}\")\n",
        "print(\"All The Type Of all Ans:\")\n",
        "print(f\"SUM = {type(sum)} \\n SUB = {type(sub)} \\nDIV = {type(div)}\")\n",
        "print(type(z))"
      ],
      "execution_count": null,
      "outputs": [
        {
          "output_type": "stream",
          "text": [
            "Enter a number: 12\n",
            "Enter Another NUmber: 5\n",
            "Enter Your NameSonnet\n",
            "The SUM is :17 \n",
            "The SUB is : 7 \n",
            "The MUl is : 60 \n",
            "The DIV is : 2.4 \n",
            "The Exponentian is : 248832\n",
            "All The Type Of all Ans:\n",
            "SUM = <class 'int'> \n",
            " SUB = <class 'int'> \n",
            "DIV = <class 'float'>\n",
            "<class 'str'>\n"
          ],
          "name": "stdout"
        }
      ]
    },
    {
      "cell_type": "markdown",
      "metadata": {
        "id": "m6bNRQ2UUcY_"
      },
      "source": [
        "# IF, ELSE IF AND ELSE Statement"
      ]
    },
    {
      "cell_type": "code",
      "metadata": {
        "id": "I3jmM39SRVqX",
        "outputId": "59189560-95c5-4fae-c057-7481c8d42427",
        "colab": {
          "base_uri": "https://localhost:8080/",
          "height": 68
        }
      },
      "source": [
        "grade = int(input(\"Enter the Number That you get in your Exam: \"))\n",
        "if grade>=40:\n",
        "  print(\"PASSED\")\n",
        "  if grade<=50:\n",
        "    print(f\"Your GRADE in this EXam = D \")\n",
        "    \n",
        "  elif grade<=59:\n",
        "    print(f\"Your GRADE in this EXam = C \")\n",
        "  elif grade<=69:\n",
        "    print(f\"Your GRADE in this EXam = B \")\n",
        "  elif grade<=79:\n",
        "    print(f\"Your GRADE in this EXam = A \")\n",
        "  elif grade<=100:\n",
        "    print(f\"Your GRADE in this EXam = A+ \")\n",
        "else :\n",
        "  print(\"FAILED\")\n"
      ],
      "execution_count": null,
      "outputs": [
        {
          "output_type": "stream",
          "text": [
            "Enter the Number That you get in your Exam: 70\n",
            "PASSED\n",
            "Your GRADE in this EXam = A \n"
          ],
          "name": "stdout"
        }
      ]
    },
    {
      "cell_type": "markdown",
      "metadata": {
        "id": "RjL8LY8eWzcr"
      },
      "source": [
        "# LOOP\n",
        "WHILE"
      ]
    },
    {
      "cell_type": "code",
      "metadata": {
        "id": "fbaLhRhiXJKf",
        "outputId": "7dea1fd6-ca1e-4a62-c94c-cfdbd96e7c38",
        "colab": {
          "base_uri": "https://localhost:8080/",
          "height": 119
        }
      },
      "source": [
        "z=[]\n",
        "i=0\n",
        "while i<5:\n",
        "  x=int(input(\"Enter a NUmber :  \"))\n",
        "  z.append(x)\n",
        "  i+=1\n",
        "print(z)"
      ],
      "execution_count": null,
      "outputs": [
        {
          "output_type": "stream",
          "text": [
            "Enter a NUmber :  7\n",
            "Enter a NUmber :  4\n",
            "Enter a NUmber :  0\n",
            "Enter a NUmber :  9\n",
            "Enter a NUmber :  5\n",
            "[7, 4, 0, 9, 5]\n"
          ],
          "name": "stdout"
        }
      ]
    },
    {
      "cell_type": "markdown",
      "metadata": {
        "id": "4lDPWN3mZ3P3"
      },
      "source": [
        "FOR \n"
      ]
    },
    {
      "cell_type": "code",
      "metadata": {
        "id": "v2ByNsk7Z2rM",
        "outputId": "42ead0d4-7702-4ee2-d4b0-da7e4439371a",
        "colab": {
          "base_uri": "https://localhost:8080/",
          "height": 51
        }
      },
      "source": [
        "z=[7, 8, 5, 10, 6, 5, 8, 9]\n",
        "numbers=[]\n",
        "for number in z:\n",
        "  if number not in numbers:\n",
        "    numbers.append(number)\n",
        "print(numbers) \n",
        "print(f\"Sorted List: {sorted(numbers)}\")"
      ],
      "execution_count": null,
      "outputs": [
        {
          "output_type": "stream",
          "text": [
            "[7, 8, 5, 10, 6, 9]\n",
            "Sorted List: [5, 6, 7, 8, 9, 10]\n"
          ],
          "name": "stdout"
        }
      ]
    },
    {
      "cell_type": "markdown",
      "metadata": {
        "id": "iUhKgF09ckH0"
      },
      "source": [
        ""
      ]
    }
  ]
}