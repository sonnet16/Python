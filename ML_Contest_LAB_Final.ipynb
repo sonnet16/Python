{
  "nbformat": 4,
  "nbformat_minor": 0,
  "metadata": {
    "colab": {
      "name": "ML_Contest_LAB_Final.ipynb",
      "provenance": [],
      "authorship_tag": "ABX9TyOxlN5Y50v04QyvwLJI3Tmk",
      "include_colab_link": true
    },
    "kernelspec": {
      "name": "python3",
      "display_name": "Python 3"
    }
  },
  "cells": [
    {
      "cell_type": "markdown",
      "metadata": {
        "id": "view-in-github",
        "colab_type": "text"
      },
      "source": [
        "<a href=\"https://colab.research.google.com/github/sonnet16/Python/blob/main/ML_Contest_LAB_Final.ipynb\" target=\"_parent\"><img src=\"https://colab.research.google.com/assets/colab-badge.svg\" alt=\"Open In Colab\"/></a>"
      ]
    },
    {
      "cell_type": "markdown",
      "metadata": {
        "id": "mLDCgixTZLD8"
      },
      "source": [
        "# Write a function"
      ]
    },
    {
      "cell_type": "code",
      "metadata": {
        "colab": {
          "base_uri": "https://localhost:8080/"
        },
        "id": "tpgwvBYwZIp1",
        "outputId": "1df81455-f2b7-4ab2-de39-e45cd05da566"
      },
      "source": [
        "def is_leap(year):\r\n",
        "    if year % 400 == 0:\r\n",
        "        return True\r\n",
        "    if year % 100 == 0:\r\n",
        "        return False\r\n",
        "    if year % 4 == 0:\r\n",
        "        return True\r\n",
        "    return False\r\n",
        "\r\n",
        "x= int(input())\r\n",
        "print(is_leap(x))"
      ],
      "execution_count": 5,
      "outputs": [
        {
          "output_type": "stream",
          "text": [
            "1990\n",
            "False\n"
          ],
          "name": "stdout"
        }
      ]
    },
    {
      "cell_type": "markdown",
      "metadata": {
        "id": "FwY1w1TeZwO1"
      },
      "source": [
        "# IF Else"
      ]
    },
    {
      "cell_type": "code",
      "metadata": {
        "colab": {
          "base_uri": "https://localhost:8080/"
        },
        "id": "AEnc_W-YZvxN",
        "outputId": "9650406a-d044-4f5d-ef1d-b79a19a1db2b"
      },
      "source": [
        "n = int(input());\r\n",
        "\r\n",
        "if n % 2 != 0:\r\n",
        "    print(\"Weird\");\r\n",
        "else:\r\n",
        "    if 2 <= n <= 5:\r\n",
        "        print(\"Not Weird\");\r\n",
        "    elif 6 <= n <= 20:\r\n",
        "        print(\"Weird\");\r\n",
        "    elif n > 20:\r\n",
        "        print(\"Not Weird\");"
      ],
      "execution_count": 6,
      "outputs": [
        {
          "output_type": "stream",
          "text": [
            "3\n",
            "Weird\n"
          ],
          "name": "stdout"
        }
      ]
    },
    {
      "cell_type": "markdown",
      "metadata": {
        "id": "TMalaAJcW7C_"
      },
      "source": [
        "# Python: Division"
      ]
    },
    {
      "cell_type": "code",
      "metadata": {
        "colab": {
          "base_uri": "https://localhost:8080/"
        },
        "id": "zmd7wDwPncMK",
        "outputId": "c87553a2-caf1-4035-e723-c75fdc5162b4"
      },
      "source": [
        "a = int(input())\r\n",
        "b = int(input())\r\n",
        "\r\n",
        "print(a // b)\r\n",
        "print(a / b)"
      ],
      "execution_count": null,
      "outputs": [
        {
          "output_type": "stream",
          "text": [
            "3\n",
            "5\n",
            "0\n",
            "0.6\n"
          ],
          "name": "stdout"
        }
      ]
    },
    {
      "cell_type": "markdown",
      "metadata": {
        "id": "3p5eP9-CXWgA"
      },
      "source": [
        "#Loops \r\n"
      ]
    },
    {
      "cell_type": "code",
      "metadata": {
        "colab": {
          "base_uri": "https://localhost:8080/"
        },
        "id": "fPemic5enc4d",
        "outputId": "79a69e05-7f40-4d79-a603-e77bf84b8114"
      },
      "source": [
        "n = int(input())\r\n",
        "for i in range(0,n):\r\n",
        "  print(i**2)"
      ],
      "execution_count": null,
      "outputs": [
        {
          "output_type": "stream",
          "text": [
            "3\n",
            "0\n",
            "1\n",
            "4\n"
          ],
          "name": "stdout"
        }
      ]
    },
    {
      "cell_type": "markdown",
      "metadata": {
        "id": "aW_GcnH5XpGU"
      },
      "source": [
        "# Nested Lists"
      ]
    },
    {
      "cell_type": "code",
      "metadata": {
        "colab": {
          "base_uri": "https://localhost:8080/"
        },
        "id": "6uVXvyDqpVp5",
        "outputId": "da91c572-70d7-49ed-f16c-71a855cac60f"
      },
      "source": [
        "records = [];  \r\n",
        "for _ in range(int(input())):\r\n",
        "    name = input()\r\n",
        "    score = float(input())\r\n",
        "\r\n",
        "\r\n",
        "    records.append([name, score])\r\n",
        "second_lowest = sorted(set([score for name, score in records]))[1]\r\n",
        "print('\\n'.join(sorted([name for name, score in records if score == second_lowest])))"
      ],
      "execution_count": null,
      "outputs": [
        {
          "output_type": "stream",
          "text": [
            "5\n",
            "Herry\n",
            "37.21\n",
            "Berry\n",
            "37.21\n",
            "Tina\n",
            "37.2\n",
            "Akriti\n",
            "41\n",
            "Harsh\n",
            "39\n",
            "Berry\n",
            "Herry\n"
          ],
          "name": "stdout"
        }
      ]
    },
    {
      "cell_type": "code",
      "metadata": {
        "id": "taRJ801hZHvl"
      },
      "source": [
        ""
      ],
      "execution_count": null,
      "outputs": []
    },
    {
      "cell_type": "markdown",
      "metadata": {
        "id": "4Qeso6GUYdUS"
      },
      "source": [
        "# Basic Statistics Warmup"
      ]
    },
    {
      "cell_type": "code",
      "metadata": {
        "colab": {
          "base_uri": "https://localhost:8080/"
        },
        "id": "wRxT2jCFscTB",
        "outputId": "c900acf6-f1f8-4447-e8c6-9b4abda3a22b"
      },
      "source": [
        "n = int(input())\r\n",
        "numbers = input().split()\r\n",
        "numbers = sorted([int(x) for x in numbers])\r\n",
        "\r\n",
        "def mean(numbers):\r\n",
        "    size = len(numbers)\r\n",
        "    return round(sum(numbers)/float(size),1)\r\n",
        "\r\n",
        "def median(numbers,size):\r\n",
        "    size = len(numbers)\r\n",
        "    mid1 = int(round(size/2)) - 1 + n%2\r\n",
        "    mid2 = int(round(size/2))\r\n",
        "    return round(mean([numbers[mid1],numbers[mid2]]),1)\r\n",
        "\r\n",
        "def mode(numbers):\r\n",
        "    return max(numbers, key=numbers.count)\r\n",
        "\r\n",
        "def st_dev(numbers):\r\n",
        "    total = 0\r\n",
        "    mean_nums = mean(numbers)\r\n",
        "    size = len(numbers)\r\n",
        "    for number in numbers:\r\n",
        "        total += (number - mean_nums)**2\r\n",
        "    return round((total / size)**0.5,1)\r\n",
        "\r\n",
        "def confidence(numbers):\r\n",
        "    s = 1.96\r\n",
        "    size = len(numbers)\r\n",
        "    stderr = st_dev(numbers)/(size**0.5)\r\n",
        "    mean_nums = mean(numbers)\r\n",
        "    lower = round(mean_nums - (stderr * s),1)\r\n",
        "    upper = round(mean_nums + (stderr * s),1)\r\n",
        "    return [lower, upper]\r\n",
        "print(mean(numbers))\r\n",
        "print(median(numbers,n))\r\n",
        "print(mode(numbers))\r\n",
        "print(st_dev(numbers))\r\n",
        "count =0\r\n",
        "for item in confidence(numbers):\r\n",
        "    count=count+1\r\n",
        "    print(item,end=\" \")"
      ],
      "execution_count": 4,
      "outputs": [
        {
          "output_type": "stream",
          "text": [
            "10\n",
            "64630 11735 14216 99233 14470 4978 73429 38120 51135 67060\n",
            "43900.6\n",
            "44627.5\n",
            "4978\n",
            "30466.9\n",
            "25017.0 62784.2 "
          ],
          "name": "stdout"
        }
      ]
    },
    {
      "cell_type": "markdown",
      "metadata": {
        "id": "XUnTRjlFYzBL"
      },
      "source": [
        "# Arithmetic Operation"
      ]
    },
    {
      "cell_type": "code",
      "metadata": {
        "colab": {
          "base_uri": "https://localhost:8080/"
        },
        "id": "U7Vz7CNOYym8",
        "outputId": "c85ce754-ee8f-4608-d6b3-b563f6753cb2"
      },
      "source": [
        "a = int(input());\r\n",
        "b = int(input());\r\n",
        "print(a+b);\r\n",
        "print(a-b);\r\n",
        "print(a*b);"
      ],
      "execution_count": 7,
      "outputs": [
        {
          "output_type": "stream",
          "text": [
            "3\n",
            "5\n",
            "8\n",
            "-2\n",
            "15\n"
          ],
          "name": "stdout"
        }
      ]
    },
    {
      "cell_type": "markdown",
      "metadata": {
        "id": "46k_NiB0bBBD"
      },
      "source": [
        "# Find a string"
      ]
    },
    {
      "cell_type": "code",
      "metadata": {
        "colab": {
          "base_uri": "https://localhost:8080/"
        },
        "id": "PnjpW7ZqbArk",
        "outputId": "77c844fe-e4ca-4ad7-ac0f-cfed9955afc2"
      },
      "source": [
        "def count_substring(string, sub_string):\r\n",
        "    occur = 0\r\n",
        "    for i in range(len(string)):\r\n",
        "        if string[i:].startswith(sub_string):\r\n",
        "            occur += 1\r\n",
        "    return occur\r\n",
        "if __name__ == '__main__':\r\n",
        "    string = input().strip()\r\n",
        "    sub_string = input().strip()\r\n",
        "    \r\n",
        "    count = count_substring(string, sub_string)\r\n",
        "    print(count)"
      ],
      "execution_count": 9,
      "outputs": [
        {
          "output_type": "stream",
          "text": [
            "ABCDCDC\n",
            "CDC\n",
            "2\n"
          ],
          "name": "stdout"
        }
      ]
    },
    {
      "cell_type": "markdown",
      "metadata": {
        "id": "fcq78SC8b8Ha"
      },
      "source": [
        "# Missing Stock Prices"
      ]
    },
    {
      "cell_type": "code",
      "metadata": {
        "colab": {
          "base_uri": "https://localhost:8080/",
          "height": 231
        },
        "id": "iYbgoaGDcBCx",
        "outputId": "1f3cb5e3-3a5e-45aa-f467-03a5cbf9272a"
      },
      "source": [
        "import sys\r\n",
        "from scipy.interpolate import UnivariateSpline\r\n",
        "n = int(sys.stdin.readline())\r\n",
        "\r\n",
        "raw_prices = []\r\n",
        "\r\n",
        "for i in range(0, n):\r\n",
        "    line = sys.stdin.readline()\r\n",
        "    timestamp, price = line.split(\"\\t\")\r\n",
        "    raw_prices.append(price)\r\n",
        "\r\n",
        "prices_index = []\r\n",
        "missing_prices_index = []\r\n",
        "prices = []\r\n",
        "\r\n",
        "for i in range(0, n):\r\n",
        "    if 'Missing' in raw_prices[i]:\r\n",
        "        missing_prices_index.append(i)\r\n",
        "    else:\r\n",
        "        prices_index.append(i)\r\n",
        "        prices.append(float(raw_prices[i]))\r\n",
        "\r\n",
        "spline = UnivariateSpline(prices_index, prices, s=2)\r\n",
        "for i in missing_prices_index:\r\n",
        "    print(spline(i))"
      ],
      "execution_count": 11,
      "outputs": [
        {
          "output_type": "error",
          "ename": "ValueError",
          "evalue": "ignored",
          "traceback": [
            "\u001b[0;31m---------------------------------------------------------------------------\u001b[0m",
            "\u001b[0;31mValueError\u001b[0m                                Traceback (most recent call last)",
            "\u001b[0;32m<ipython-input-11-73ca7f21b37e>\u001b[0m in \u001b[0;36m<module>\u001b[0;34m()\u001b[0m\n\u001b[1;32m      1\u001b[0m \u001b[0;32mimport\u001b[0m \u001b[0msys\u001b[0m\u001b[0;34m\u001b[0m\u001b[0;34m\u001b[0m\u001b[0m\n\u001b[1;32m      2\u001b[0m \u001b[0;32mfrom\u001b[0m \u001b[0mscipy\u001b[0m\u001b[0;34m.\u001b[0m\u001b[0minterpolate\u001b[0m \u001b[0;32mimport\u001b[0m \u001b[0mUnivariateSpline\u001b[0m\u001b[0;34m\u001b[0m\u001b[0;34m\u001b[0m\u001b[0m\n\u001b[0;32m----> 3\u001b[0;31m \u001b[0mn\u001b[0m \u001b[0;34m=\u001b[0m \u001b[0mint\u001b[0m\u001b[0;34m(\u001b[0m\u001b[0msys\u001b[0m\u001b[0;34m.\u001b[0m\u001b[0mstdin\u001b[0m\u001b[0;34m.\u001b[0m\u001b[0mreadline\u001b[0m\u001b[0;34m(\u001b[0m\u001b[0;34m)\u001b[0m\u001b[0;34m)\u001b[0m\u001b[0;34m\u001b[0m\u001b[0;34m\u001b[0m\u001b[0m\n\u001b[0m\u001b[1;32m      4\u001b[0m \u001b[0;34m\u001b[0m\u001b[0m\n\u001b[1;32m      5\u001b[0m \u001b[0mraw_prices\u001b[0m \u001b[0;34m=\u001b[0m \u001b[0;34m[\u001b[0m\u001b[0;34m]\u001b[0m\u001b[0;34m\u001b[0m\u001b[0;34m\u001b[0m\u001b[0m\n",
            "\u001b[0;31mValueError\u001b[0m: invalid literal for int() with base 10: ''"
          ]
        }
      ]
    }
  ]
}